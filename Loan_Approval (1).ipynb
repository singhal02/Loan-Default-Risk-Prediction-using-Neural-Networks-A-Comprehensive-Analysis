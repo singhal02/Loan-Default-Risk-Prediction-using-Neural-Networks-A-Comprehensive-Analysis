{
  "nbformat": 4,
  "nbformat_minor": 0,
  "metadata": {
    "colab": {
      "provenance": []
    },
    "kernelspec": {
      "name": "python3",
      "display_name": "Python 3"
    },
    "language_info": {
      "name": "python"
    }
  },
  "cells": [
    {
      "cell_type": "code",
      "execution_count": 57,
      "metadata": {
        "id": "Ln_khDa0MWX3"
      },
      "outputs": [],
      "source": [
        "import tensorflow as tf\n",
        "from tensorflow import keras\n",
        "from sklearn.model_selection import train_test_split\n",
        "import numpy as np\n",
        "import pandas as pd"
      ]
    },
    {
      "cell_type": "code",
      "source": [
        "# Load the dataset\n",
        "data = pd.read_csv('/content/drive/MyDrive/Applicant-details.csv')"
      ],
      "metadata": {
        "id": "EuLHknyTNpgD"
      },
      "execution_count": 58,
      "outputs": []
    },
    {
      "cell_type": "code",
      "source": [
        "# Assuming you have a DataFrame or numpy array called 'data' containing your preprocessed data\n",
        "X = data.drop('Loan_Default_Risk', axis=1).values\n",
        "y = data['Loan_Default_Risk'].values"
      ],
      "metadata": {
        "id": "SzWaMYHFOC4m"
      },
      "execution_count": 59,
      "outputs": []
    },
    {
      "cell_type": "code",
      "source": [
        "# Assuming 'data' is your DataFrame containing the data\n",
        "data_encoded = pd.get_dummies(data)"
      ],
      "metadata": {
        "id": "Tc3gA1HjRvZI"
      },
      "execution_count": 60,
      "outputs": []
    },
    {
      "cell_type": "code",
      "source": [
        "# Split the data into training, validation, and test sets\n",
        "X_train, X_temp, y_train, y_temp = train_test_split(X, y, test_size=0.3, random_state=42)\n",
        "X_val, X_test, y_val, y_test = train_test_split(X_temp, y_temp, test_size=0.5, random_state=42)"
      ],
      "metadata": {
        "id": "bA7y_Iy1OC75"
      },
      "execution_count": 61,
      "outputs": []
    },
    {
      "cell_type": "code",
      "source": [
        "from sklearn.preprocessing import OneHotEncoder\n",
        "\n",
        "# Assuming 'data' is your DataFrame containing the preprocessed data\n",
        "categorical_columns = ['Marital_Status', 'House_Ownership', 'Vehicle_Ownership(car)', 'Occupation', 'Residence_City', 'Residence_State']\n",
        "\n",
        "# Perform one-hot encoding on the categorical columns\n",
        "encoder = OneHotEncoder(sparse=False, handle_unknown='ignore')\n",
        "encoded_cols = encoder.fit_transform(data[categorical_columns])\n",
        "\n",
        "# Drop the original categorical columns from the dataset\n",
        "data = data.drop(categorical_columns, axis=1)\n",
        "\n",
        "# Concatenate the encoded columns with the original dataset\n",
        "data_encoded = np.concatenate([data.values, encoded_cols], axis=1)\n",
        "\n",
        "# Split the data into X and y\n",
        "X = data_encoded[:, :-1]\n",
        "y = data_encoded[:, -1]\n",
        "\n",
        "# Split the data into training, validation, and test sets\n",
        "X_train, X_temp, y_train, y_temp = train_test_split(X, y, test_size=0.3, random_state=42)\n",
        "X_val, X_test, y_val, y_test = train_test_split(X_temp, y_temp, test_size=0.5, random_state=42)\n",
        "\n",
        "# Convert the data to float32\n",
        "X_train = X_train.astype('float32')\n",
        "X_val = X_val.astype('float32')\n",
        "X_test = X_test.astype('float32')\n",
        "y_train = y_train.astype('float32')\n",
        "y_val = y_val.astype('float32')\n",
        "y_test = y_test.astype('float32')"
      ],
      "metadata": {
        "colab": {
          "base_uri": "https://localhost:8080/"
        },
        "id": "pkXh9yxwSBju",
        "outputId": "9a496c33-70d2-49e7-b5ed-129bf2d7f835"
      },
      "execution_count": 62,
      "outputs": [
        {
          "output_type": "stream",
          "name": "stderr",
          "text": [
            "/usr/local/lib/python3.10/dist-packages/sklearn/preprocessing/_encoders.py:868: FutureWarning: `sparse` was renamed to `sparse_output` in version 1.2 and will be removed in 1.4. `sparse_output` is ignored unless you leave `sparse` to its default value.\n",
            "  warnings.warn(\n"
          ]
        }
      ]
    },
    {
      "cell_type": "code",
      "source": [
        "from sklearn.preprocessing import StandardScaler\n",
        "# Standardize the features\n",
        "scaler = StandardScaler()\n",
        "X_train_scaled = scaler.fit_transform(X_train)\n",
        "X_val_scaled = scaler.transform(X_val)\n",
        "X_test_scaled = scaler.transform(X_test)"
      ],
      "metadata": {
        "id": "3x9l9AYCPpwj"
      },
      "execution_count": 63,
      "outputs": []
    },
    {
      "cell_type": "code",
      "source": [
        "# Define neural network architecture\n",
        "model = keras.Sequential([\n",
        "    keras.layers.Dense(128, activation='relu', input_shape=(X_train.shape[1],)),\n",
        "    keras.layers.Dropout(0.2),\n",
        "    keras.layers.Dense(64, activation='relu'),\n",
        "    keras.layers.Dropout(0.2),\n",
        "    keras.layers.Dense(32, activation='relu'),\n",
        "    keras.layers.Dense(1, activation='sigmoid')\n",
        "])"
      ],
      "metadata": {
        "id": "5GxtAdLlNpir"
      },
      "execution_count": 64,
      "outputs": []
    },
    {
      "cell_type": "code",
      "source": [
        "# Compile the model\n",
        "model.compile(optimizer='adam', loss='binary_crossentropy', metrics=['accuracy'])"
      ],
      "metadata": {
        "id": "w2nHAj2-NplV"
      },
      "execution_count": 65,
      "outputs": []
    },
    {
      "cell_type": "code",
      "source": [
        "# Train the model\n",
        "model.fit(X_train, y_train, epochs=10, batch_size=32, validation_data=(X_val, y_val))"
      ],
      "metadata": {
        "colab": {
          "base_uri": "https://localhost:8080/"
        },
        "id": "naSsDUiXNpor",
        "outputId": "86e4a623-f64b-4341-ae6d-0472b6c6b303"
      },
      "execution_count": 66,
      "outputs": [
        {
          "output_type": "stream",
          "name": "stdout",
          "text": [
            "Epoch 1/10\n",
            "2188/2188 [==============================] - 12s 5ms/step - loss: 856.2120 - accuracy: 0.8457 - val_loss: 1.8068 - val_accuracy: 0.9061\n",
            "Epoch 2/10\n",
            "2188/2188 [==============================] - 16s 7ms/step - loss: 2.6406 - accuracy: 0.9045 - val_loss: 0.3116 - val_accuracy: 0.9061\n",
            "Epoch 3/10\n",
            "2188/2188 [==============================] - 8s 4ms/step - loss: 1.6060 - accuracy: 0.9075 - val_loss: 0.3117 - val_accuracy: 0.9061\n",
            "Epoch 4/10\n",
            "2188/2188 [==============================] - 8s 4ms/step - loss: 1.2057 - accuracy: 0.9078 - val_loss: 0.3116 - val_accuracy: 0.9061\n",
            "Epoch 5/10\n",
            "2188/2188 [==============================] - 8s 3ms/step - loss: 0.7105 - accuracy: 0.9079 - val_loss: 0.3116 - val_accuracy: 0.9061\n",
            "Epoch 6/10\n",
            "2188/2188 [==============================] - 8s 4ms/step - loss: 0.9966 - accuracy: 0.9079 - val_loss: 0.3117 - val_accuracy: 0.9061\n",
            "Epoch 7/10\n",
            "2188/2188 [==============================] - 8s 3ms/step - loss: 0.3447 - accuracy: 0.9079 - val_loss: 0.3116 - val_accuracy: 0.9061\n",
            "Epoch 8/10\n",
            "2188/2188 [==============================] - 9s 4ms/step - loss: 0.5966 - accuracy: 0.9079 - val_loss: 0.3117 - val_accuracy: 0.9061\n",
            "Epoch 9/10\n",
            "2188/2188 [==============================] - 7s 3ms/step - loss: 0.4762 - accuracy: 0.9079 - val_loss: 0.3116 - val_accuracy: 0.9061\n",
            "Epoch 10/10\n",
            "2188/2188 [==============================] - 9s 4ms/step - loss: 0.5677 - accuracy: 0.9080 - val_loss: 0.3116 - val_accuracy: 0.9061\n"
          ]
        },
        {
          "output_type": "execute_result",
          "data": {
            "text/plain": [
              "<keras.src.callbacks.History at 0x7f32b74099f0>"
            ]
          },
          "metadata": {},
          "execution_count": 66
        }
      ]
    },
    {
      "cell_type": "code",
      "source": [
        "# Evaluate the model\n",
        "y_pred_prob = model.predict(X_test)\n",
        "y_pred = (y_pred_prob > 0.5).astype(int)"
      ],
      "metadata": {
        "colab": {
          "base_uri": "https://localhost:8080/"
        },
        "id": "7xzd8yl_QXFC",
        "outputId": "2e65af27-6621-4df3-de74-0f74091d7df4"
      },
      "execution_count": 67,
      "outputs": [
        {
          "output_type": "stream",
          "name": "stdout",
          "text": [
            "469/469 [==============================] - 1s 1ms/step\n"
          ]
        }
      ]
    },
    {
      "cell_type": "code",
      "source": [
        "# Evaluate the model\n",
        "loss, accuracy = model.evaluate(X_test_scaled, y_test)\n",
        "print(f'Loss: {loss}, Accuracy: {accuracy}')"
      ],
      "metadata": {
        "colab": {
          "base_uri": "https://localhost:8080/"
        },
        "id": "h-UywjR0P-Bz",
        "outputId": "b40780a5-4ae3-4a01-8b63-0cfa46821881"
      },
      "execution_count": 68,
      "outputs": [
        {
          "output_type": "stream",
          "name": "stdout",
          "text": [
            "469/469 [==============================] - 1s 2ms/step - loss: 0.3207 - accuracy: 0.9016\n",
            "Loss: 0.3207089602947235, Accuracy: 0.9016000032424927\n"
          ]
        }
      ]
    }
  ]
}